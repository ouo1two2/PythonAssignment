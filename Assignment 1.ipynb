{
 "cells": [
  {
   "cell_type": "code",
   "execution_count": 1,
   "metadata": {},
   "outputs": [
    {
     "name": "stdout",
     "output_type": "stream",
     "text": [
      "Python Hello\n"
     ]
    }
   ],
   "source": [
    "s = \"Hello Python\"\n",
    "b=s[0:5]\n",
    "c=s[6:12]\n",
    "a=c+' '+b\n",
    "print (a)"
   ]
  },
  {
   "cell_type": "markdown",
   "metadata": {},
   "source": [
    "b에다가 Hello를 저장하고 c에다가 Python을 저장 a에다가 c를 먼저 저장하고 공백을 넣고 b를 저장"
   ]
  },
  {
   "cell_type": "code",
   "execution_count": 2,
   "metadata": {},
   "outputs": [
    {
     "name": "stdout",
     "output_type": "stream",
     "text": [
      "Python Hello World\n"
     ]
    }
   ],
   "source": [
    "s=\"Hello Python World\"\n",
    "a=s[0:5]\n",
    "c=s[6:12]\n",
    "d=s[13:18]\n",
    "b=c+' '+a+' '+d\n",
    "print (b)"
   ]
  },
  {
   "cell_type": "markdown",
   "metadata": {},
   "source": [
    "a c d 각각 단어를 저장하고 원하는 순서대로 b에다가 단어를 저장해서 출력"
   ]
  },
  {
   "cell_type": "code",
   "execution_count": 3,
   "metadata": {},
   "outputs": [
    {
     "name": "stdout",
     "output_type": "stream",
     "text": [
      "olleH\n"
     ]
    }
   ],
   "source": [
    "s=\"Hello\"\n",
    "c=s[::-1]\n",
    "print(c)"
   ]
  },
  {
   "cell_type": "markdown",
   "metadata": {},
   "source": [
    "c에다가 s를 역순으로 저장"
   ]
  },
  {
   "cell_type": "code",
   "execution_count": 4,
   "metadata": {},
   "outputs": [
    {
     "name": "stdout",
     "output_type": "stream",
     "text": [
      "p\n",
      "p\n",
      "p\n"
     ]
    }
   ],
   "source": [
    "s=\"python\"\n",
    "print (s[0])\n",
    "print (s[0][0])\n",
    "print (s[0][0][0])"
   ]
  },
  {
   "cell_type": "markdown",
   "metadata": {},
   "source": [
    "s[0][0][0]과s[0][0]에서 s[0]을 제외하면 뒤에 0의 제외한 어떤 수를 집어 넣어도 오류가 뜬다. 아마 s=\"python\"으로 저장한것이 1차배열로 저장되서 의미를 가지는것 처음에 있는 s[0]이고 뒤에 [0][0]이 얼마나 붙든지 0의값이 들어가면 의미없는거로 판단해서 자동으로 s[0]으로 읽어들이는것 같다."
   ]
  },
  {
   "cell_type": "code",
   "execution_count": 5,
   "metadata": {},
   "outputs": [
    {
     "ename": "IndexError",
     "evalue": "string index out of range",
     "output_type": "error",
     "traceback": [
      "\u001b[1;31m---------------------------------------------------------------------------\u001b[0m",
      "\u001b[1;31mIndexError\u001b[0m                                Traceback (most recent call last)",
      "\u001b[1;32m<ipython-input-5-db6bacb099e8>\u001b[0m in \u001b[0;36m<module>\u001b[1;34m()\u001b[0m\n\u001b[0;32m      1\u001b[0m \u001b[0ms\u001b[0m\u001b[1;33m=\u001b[0m\u001b[1;34m\"python\"\u001b[0m\u001b[1;33m\u001b[0m\u001b[0m\n\u001b[1;32m----> 2\u001b[1;33m \u001b[0mprint\u001b[0m \u001b[1;33m(\u001b[0m\u001b[0ms\u001b[0m\u001b[1;33m[\u001b[0m\u001b[1;36m100\u001b[0m\u001b[1;33m]\u001b[0m\u001b[1;33m)\u001b[0m\u001b[1;33m\u001b[0m\u001b[0m\n\u001b[0m\u001b[0;32m      3\u001b[0m \u001b[0mprint\u001b[0m \u001b[1;33m(\u001b[0m\u001b[0ms\u001b[0m\u001b[1;33m[\u001b[0m\u001b[1;33m-\u001b[0m\u001b[1;36m100\u001b[0m\u001b[1;33m]\u001b[0m\u001b[1;33m)\u001b[0m\u001b[1;33m\u001b[0m\u001b[0m\n",
      "\u001b[1;31mIndexError\u001b[0m: string index out of range"
     ]
    }
   ],
   "source": [
    "s=\"python\"\n",
    "print (s[100])\n",
    "print (s[-100])"
   ]
  },
  {
   "cell_type": "markdown",
   "metadata": {},
   "source": [
    "오류가 난다. 범위를 벗어난 인덱스라고 오류가 뜨는 것을 보아 s에 자동적으로 문자열에 딱 들어맞는 수의 공간이 할당되있는데 그 이상의 값을 부르려고 하니까 오류가 나는것 같다."
   ]
  },
  {
   "cell_type": "code",
   "execution_count": 6,
   "metadata": {},
   "outputs": [
    {
     "ename": "TypeError",
     "evalue": "string indices must be integers",
     "output_type": "error",
     "traceback": [
      "\u001b[1;31m---------------------------------------------------------------------------\u001b[0m",
      "\u001b[1;31mTypeError\u001b[0m                                 Traceback (most recent call last)",
      "\u001b[1;32m<ipython-input-6-19e89a2dc3bd>\u001b[0m in \u001b[0;36m<module>\u001b[1;34m()\u001b[0m\n\u001b[0;32m      1\u001b[0m \u001b[0ms\u001b[0m\u001b[1;33m=\u001b[0m\u001b[1;34m\"python\"\u001b[0m\u001b[1;33m\u001b[0m\u001b[0m\n\u001b[1;32m----> 2\u001b[1;33m \u001b[0mprint\u001b[0m \u001b[1;33m(\u001b[0m\u001b[0ms\u001b[0m\u001b[1;33m[\u001b[0m\u001b[1;33m-\u001b[0m\u001b[1;36m100\u001b[0m\u001b[1;33m,\u001b[0m\u001b[1;36m100\u001b[0m\u001b[1;33m]\u001b[0m\u001b[1;33m)\u001b[0m\u001b[1;33m\u001b[0m\u001b[0m\n\u001b[0m",
      "\u001b[1;31mTypeError\u001b[0m: string indices must be integers"
     ]
    }
   ],
   "source": [
    "s=\"python\"\n",
    "print (s[-100,100])"
   ]
  },
  {
   "cell_type": "markdown",
   "metadata": {},
   "source": [
    "오류가 난다. 범위를 벗어난 수를 입력하면 읽어들이지 못해서 오류가 나는 것 같다."
   ]
  },
  {
   "cell_type": "code",
   "execution_count": 8,
   "metadata": {},
   "outputs": [
    {
     "name": "stdout",
     "output_type": "stream",
     "text": [
      "ytho\n"
     ]
    }
   ],
   "source": [
    "s=\"python\"\n",
    "print (s[1:-1])\n"
   ]
  },
  {
   "cell_type": "markdown",
   "metadata": {},
   "source": [
    "s[1:-1] 즉 0 1 2 3 4 5 에서 1부터 시작해서 뒤에서 한칸떨어진 곳 만큼 출력해야한다 그러면 1부터 4까지 출력하게 된다 그래서 ytho가 출력된다."
   ]
  },
  {
   "cell_type": "code",
   "execution_count": 9,
   "metadata": {},
   "outputs": [
    {
     "name": "stdout",
     "output_type": "stream",
     "text": [
      "\n"
     ]
    }
   ],
   "source": [
    "s=\"python\"\n",
    "print (s[3:-3])"
   ]
  },
  {
   "cell_type": "markdown",
   "metadata": {},
   "source": [
    "아무것도 출력되지 않는다. 위의 3의 앞에서부터 시작해서 3의 앞에서 끝나는것을 출력하게 됨으로 아무것도 출력되지 않는것이 맞다."
   ]
  },
  {
   "cell_type": "code",
   "execution_count": 10,
   "metadata": {},
   "outputs": [
    {
     "name": "stdout",
     "output_type": "stream",
     "text": [
      "1\n",
      "\n",
      "3\n",
      "\n",
      "5\n",
      "\n",
      "7\n",
      "\n",
      "9\n",
      "\n",
      "11\n",
      "\n",
      "13\n",
      "\n",
      "15\n",
      "\n",
      "17\n",
      "\n",
      "19\n",
      "\n",
      "21\n",
      "\n",
      "23\n",
      "\n",
      "25\n",
      "\n",
      "27\n",
      "\n",
      "29\n",
      "\n",
      "31\n",
      "\n",
      "33\n",
      "\n",
      "35\n",
      "\n",
      "37\n",
      "\n",
      "39\n",
      "\n",
      "41\n",
      "\n",
      "43\n",
      "\n",
      "45\n",
      "\n",
      "47\n",
      "\n",
      "49\n",
      "\n",
      "51\n",
      "\n",
      "53\n",
      "\n",
      "55\n",
      "\n",
      "57\n",
      "\n",
      "59\n",
      "\n",
      "61\n",
      "\n",
      "63\n",
      "\n",
      "65\n",
      "\n",
      "67\n",
      "\n",
      "69\n",
      "\n",
      "71\n",
      "\n",
      "73\n",
      "\n",
      "75\n",
      "\n",
      "77\n",
      "\n",
      "79\n",
      "\n",
      "81\n",
      "\n",
      "83\n",
      "\n",
      "85\n",
      "\n",
      "87\n",
      "\n",
      "89\n",
      "\n",
      "91\n",
      "\n",
      "93\n",
      "\n",
      "95\n",
      "\n",
      "97\n",
      "\n",
      "99\n"
     ]
    }
   ],
   "source": [
    "a=0\n",
    "for i in range(1,100):\n",
    "    a=i%2\n",
    "    if  a==0:\n",
    "        print()\n",
    "    else :\n",
    "        print(i)"
   ]
  },
  {
   "cell_type": "code",
   "execution_count": 11,
   "metadata": {},
   "outputs": [
    {
     "name": "stdout",
     "output_type": "stream",
     "text": [
      "2450\n"
     ]
    }
   ],
   "source": [
    "i=0\n",
    "a=0\n",
    "sum=0\n",
    "while i<100:\n",
    "    a=i%2\n",
    "    if  a==0:\n",
    "        sum=sum+i\n",
    "    i=i+1;\n",
    "print (sum)"
   ]
  },
  {
   "cell_type": "code",
   "execution_count": 12,
   "metadata": {
    "scrolled": true
   },
   "outputs": [
    {
     "name": "stdout",
     "output_type": "stream",
     "text": [
      "정수를 입력하세요 : 123\n",
      "321\n"
     ]
    }
   ],
   "source": [
    "s=input(\"정수를 입력하세요 : \")\n",
    "result=s[::-1]\n",
    "print (result)"
   ]
  },
  {
   "cell_type": "markdown",
   "metadata": {},
   "source": [
    "백준문제"
   ]
  },
  {
   "cell_type": "code",
   "execution_count": 13,
   "metadata": {},
   "outputs": [
    {
     "name": "stdout",
     "output_type": "stream",
     "text": [
      "정수를 입력하세요 : 10\n",
      "4\n"
     ]
    }
   ],
   "source": [
    "x=input(\"정수를 입력하세요 : \")\n",
    "y=int(x)\n",
    "\n",
    "def Prime(y):\n",
    "    result=0\n",
    "    for i in range(1,y+1):\n",
    "        num=0\n",
    "        for j in range(1,i+1):\n",
    "            if i%j==0:\n",
    "                num+=1\n",
    "        if num==2:\n",
    "            result+=1\n",
    "    return result\n",
    "print(Prime(y))"
   ]
  },
  {
   "cell_type": "code",
   "execution_count": 46,
   "metadata": {
    "scrolled": true
   },
   "outputs": [
    {
     "name": "stdout",
     "output_type": "stream",
     "text": [
      "5\n",
      "*****\n",
      " ****\n",
      "  ***\n",
      "   **\n",
      "    *\n"
     ]
    }
   ],
   "source": [
    "N=int(input())\n",
    "for i in range(1,N+1):\n",
    "    print(\" \"*(i-1) + \"*\"*(N-i+1))"
   ]
  },
  {
   "cell_type": "markdown",
   "metadata": {},
   "source": [
    "정수를 입력받아서 그 정수만큼 별을 그려야한다.반복문으로 입력받은 횟수 만큼 반복하게 하고 정해진 횟수만큼 공백을 출력하고 그 뒤에 별을 출력하게 한다 반복문이 진행 될 수록 출력되는 공백은 늘어나고 별의 개수는 줄어 들게 된다.\n",
    "<img src=\"files/2441.png\">"
   ]
  },
  {
   "cell_type": "code",
   "execution_count": 42,
   "metadata": {},
   "outputs": [
    {
     "name": "stdout",
     "output_type": "stream",
     "text": [
      "아무거나 입력하세요 : 일이삼사오육칠팔구십1234567890abcdefghifk\n",
      "일이삼사오육칠팔구십\n",
      "1234567890\n",
      "abcdefghif\n",
      "k\n"
     ]
    }
   ],
   "source": [
    "s=str(input(\"아무거나 입력하세요 : \"))\n",
    "\n",
    "while len(s) >10:\n",
    "    print(s[0:10],end='\\n')\n",
    "    s = s[10:]\n",
    "if len(s)<=10:\n",
    "    print(s)"
   ]
  },
  {
   "cell_type": "markdown",
   "metadata": {},
   "source": [
    "s에다가 문자열을 입력받는다 문자열s의 길이가 10보다 길면 반복해서 10자씩 잘라서 출력해 준다 만약 10보다 짧게 되면 그냥 출력해준다.\n",
    "<img src=\"files/11721.png\">"
   ]
  },
  {
   "cell_type": "code",
   "execution_count": 60,
   "metadata": {},
   "outputs": [
    {
     "name": "stdout",
     "output_type": "stream",
     "text": [
      "17\n",
      "5\n"
     ]
    }
   ],
   "source": [
    "N = int(input())\n",
    "T = 0\n",
    "F = N//5\n",
    "N %= 5\n",
    "\n",
    "while F >=0:\n",
    "    if N % 3 ==0:\n",
    "        T = N//3\n",
    "        N %= 3;\n",
    "        break\n",
    "    F -= 1\n",
    "    N += 5\n",
    "print(n==0 and (T + F) or -1)"
   ]
  },
  {
   "cell_type": "markdown",
   "metadata": {},
   "source": [
    "N에서 입력값을 받는다\n",
    "그리고 먼저 F에 입력값을 5로 나눈 몫을 저장하고, N을 그 나머지로 바꿔준다.\n",
    "F가 0보다 클동안 반복문을 실행.\n",
    "반복문 내에서는, 위에서 얻은 나머지 N을 3으로 나눴을 때 0이 될 때 T에 그 몫을 저장하고 반복문을 끝낸다.\n",
    "N을 3으로 나눴을 때 나머지가 0이 아니라면, F를 하나 줄이고 N에 5를 더한다.\n",
    "이렇게 해서 맨 마지막 라인에서 최종 나머지 N이 0일 때는 F+T를 출력하고, N=0이 아닐때는 5와 3을 통해 입력값을 만들 수 없는 것이므로 -1을 출력한다.\n",
    "<img src=\"files/2839.png\">"
   ]
  },
  {
   "cell_type": "markdown",
   "metadata": {},
   "source": [
    "### 현재까지의 소감\n",
    "생각보다 아직까지는 할 만 한거같습니다. 이번 과제에서 가장시간이 오래걸린것 두가지를 꼽자면 제일 많이걸린건 왜 맞았는데 틀렸다고 나오는지를 찾아내는 것과 깃허브에 파일을 업로드 하는 방법이였다. 맞았는데 틀렸다고 나오는것은 입력값 변수를 N으로 바꿔주고 그 안에 '입력하시오 : '를 넣었는데 지워버리니까 맞았다고 뜨는것을 확인 할 수 있었다. 문제는 깃허브였는데 어디를 뒤져도 터미널이니 명령어니 밖에 안나와서 그냥 하나하나 손수 기능을 눌러보면서 확인했다. 솔직히 내가 무슨 기능을 눌렀는지도 모르지만 일단 업로드는 앞으로 할 수 있을 것 같다. 과제가 어려울 줄 알았는데 숫자만 많았지 과제는 정작 2시간만에 다끝내고 백준사이트에서 정답을 정답으로 만드는데 1일 깃허브에 업로드를 해서 url을 딸 수 있게 될 때까지 3일이 걸렸다. "
   ]
  },
  {
   "cell_type": "code",
   "execution_count": null,
   "metadata": {},
   "outputs": [],
   "source": []
  }
 ],
 "metadata": {
  "kernelspec": {
   "display_name": "Python 3",
   "language": "python",
   "name": "python3"
  },
  "language_info": {
   "codemirror_mode": {
    "name": "ipython",
    "version": 3
   },
   "file_extension": ".py",
   "mimetype": "text/x-python",
   "name": "python",
   "nbconvert_exporter": "python",
   "pygments_lexer": "ipython3",
   "version": "3.6.4"
  }
 },
 "nbformat": 4,
 "nbformat_minor": 2
}
