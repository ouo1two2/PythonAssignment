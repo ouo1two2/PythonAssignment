{
 "cells": [
  {
   "cell_type": "code",
   "execution_count": 35,
   "metadata": {},
   "outputs": [
    {
     "name": "stdout",
     "output_type": "stream",
     "text": [
      "4\n"
     ]
    }
   ],
   "source": [
    "print (1 and 2 and 3 and  4)"
   ]
  },
  {
   "cell_type": "code",
   "execution_count": 36,
   "metadata": {},
   "outputs": [
    {
     "name": "stdout",
     "output_type": "stream",
     "text": [
      "1\n"
     ]
    }
   ],
   "source": [
    "print (1 or 2 or 3 or 4)"
   ]
  },
  {
   "cell_type": "code",
   "execution_count": 37,
   "metadata": {},
   "outputs": [
    {
     "name": "stdout",
     "output_type": "stream",
     "text": [
      "2\n"
     ]
    }
   ],
   "source": [
    "print (1 and 2 or 3 and 4)"
   ]
  },
  {
   "cell_type": "code",
   "execution_count": 38,
   "metadata": {},
   "outputs": [
    {
     "name": "stdout",
     "output_type": "stream",
     "text": [
      "2\n"
     ]
    }
   ],
   "source": [
    "print ((1 and 2) or (3 and 4))"
   ]
  },
  {
   "cell_type": "code",
   "execution_count": 39,
   "metadata": {},
   "outputs": [
    {
     "name": "stdout",
     "output_type": "stream",
     "text": [
      "1\n"
     ]
    }
   ],
   "source": [
    "print (1 or 2 and 3 or 4)"
   ]
  },
  {
   "cell_type": "code",
   "execution_count": 40,
   "metadata": {},
   "outputs": [
    {
     "name": "stdout",
     "output_type": "stream",
     "text": [
      "3\n"
     ]
    }
   ],
   "source": [
    "print ((1 or 2) and (3 or 4))"
   ]
  },
  {
   "cell_type": "markdown",
   "metadata": {},
   "source": [
    "1. 0이 아닌 모든값은 참이다. and 연산에서는 첫 번째 경우가 참인경우 뒤에 경우까지 참인지 보아야한다. 뒤에 경우가 참인경우에 참인 의미를 가진 뒤의 경우 2를 반환하는 방식으로 4 까지 진행한다\n",
    "2. 0이 아닌 모든값이 참이다. or 연산에서는 처음 값이 참이라면 그 결과도 참이다. 그러므로 뒤에 경우를 고려하지않고 앞의 경우인 참을 의미하는 1을 반환하고 마친다.\n",
    "3. 위의 논리라면 1 and 2 값은 2 를 반환할 것이며 or 연산은 앞의 경우가 참이므로 2 or 3에서는 2를 반환한다. 여기서 2 or 3 수행후 2 and 4가 진행 되지않았다고 볼수있다. 논리연산자가 다항일경우, or 보다 and가 우선된다. 명확하게 코딩하기 위해서는 괄호를 반드시 해야한다.\n",
    "4. 처음 (1 and 2)는 2를 반환할 것이다. (3 and 4)는 4를 반환할 것이다. 뒤 괄호와 관계없이 or 앞이 참의 값인 2이므로 2를 반환하고 마친다.\n",
    "5. 3에서 알아본바와 같이 2 and 3 이 우선되어 3 이 반환된다. 그 후 1 or 3 -> 1 , 1 or 4 -> 1 결과는 1이된다\n",
    "6. 앞의 괄호의 결과 1, 뒤의 괄호의 결과 3이다. 1 and 3의 결과는 1이 참이므로 3 까지 고려한뒤 3값을 반환한다."
   ]
  },
  {
   "cell_type": "code",
   "execution_count": 41,
   "metadata": {},
   "outputs": [
    {
     "name": "stdout",
     "output_type": "stream",
     "text": [
      "/home/chulsoo/test.txt\n",
      "['/home/chulsoo', 'test.txt']\n"
     ]
    }
   ],
   "source": [
    "def div_path(s):\n",
    "    n=len(s)\n",
    "    s=s[::-1]\n",
    "    k=s.find('/')\n",
    "    s1=s[0:k]\n",
    "    s2=s[k+1:n]\n",
    "    s1=s1[::-1]\n",
    "    s2=s2[::-1]\n",
    "    L=[s2,s1]\n",
    "    return L\n",
    "str=input()\n",
    "print (div_path(str))"
   ]
  },
  {
   "cell_type": "markdown",
   "metadata": {},
   "source": [
    "처음 입력받은 문자열을 역순으로 뒤집어 준다. 그 다음 제일 처음 / 가 나오는 곳의 위치를 확인하고 그 곳을 기준으로 문자열을 분할 한 뒤 다시 뒤집은 다음 출력한다."
   ]
  },
  {
   "cell_type": "code",
   "execution_count": 42,
   "metadata": {},
   "outputs": [
    {
     "name": "stdout",
     "output_type": "stream",
     "text": [
      "[1, 2, 3, 4, 5, 7, 9]\n"
     ]
    }
   ],
   "source": [
    "def list_union(lista, listb):\n",
    "    for i in listb:\n",
    "        if ( i not in lista):\n",
    "            lista.append(i)\n",
    "    return sorted(lista)\n",
    "\n",
    "a = [ 1,2,3,4,5 ]\n",
    "b = [ 1,3,5,7,9 ]\n",
    "print ( list_union(a,b))"
   ]
  },
  {
   "cell_type": "markdown",
   "metadata": {},
   "source": [
    "list_union 함수는 lista와 listb 두개의 리스트를 받는다. 만약 listb의 원소가 lista에 들어있지 안다면 lista.append를 통하여 추가한다. 마지막으로 sorted를 정렬된 lista를 반환한다."
   ]
  },
  {
   "cell_type": "code",
   "execution_count": 43,
   "metadata": {},
   "outputs": [
    {
     "name": "stdout",
     "output_type": "stream",
     "text": [
      "kimjuhyeong\n",
      "-1 -1 -1 -1 7 -1 10 5 1 3 0 -1 2 9 8 -1 -1 -1 -1 -1 4 -1 -1 -1 6 -1 "
     ]
    }
   ],
   "source": [
    "S = input()\n",
    "Alpha = ['a','b','c','d','e','f','g','h','i','j','k','l','m','n','o','p','q','r','s','t','u','v','w','x','y','z']\n",
    "num = [-1 for i in range(26)]\n",
    "for i in range(len(S)):\n",
    "    for j in range(len(Alpha)):\n",
    "        if S[i] == Alpha[j]:\n",
    "            if num[j] == -1:\n",
    "                num[j] = i\n",
    "for i in range(len(num)):\n",
    "    print(num[i], end=' ')"
   ]
  },
  {
   "cell_type": "markdown",
   "metadata": {},
   "source": [
    "입력받을 문자열, a-z 리스트, -1로 구성된 리스트가 필요하다.\n",
    "문자 하나가 a-z중 어느 것에 해당하는지 찾는다.\n",
    "아직 첫번째 위치를 모르는 해당 문자를 찾았다면 -1로 구성된 리스트에 찾은 위치 값을 넣는다.\n",
    "<img src=\"files/10809.png\">"
   ]
  },
  {
   "cell_type": "code",
   "execution_count": 34,
   "metadata": {},
   "outputs": [
    {
     "name": "stdout",
     "output_type": "stream",
     "text": [
      "반복횟수\n",
      "5\n",
      "문자열\n",
      "QWE\n",
      "QQQQQWWWWWEEEEE\n"
     ]
    }
   ],
   "source": [
    "print (\"반복횟수\")\n",
    "n = int(input())\n",
    "print (\"문자열\")\n",
    "ss = input()\n",
    "P=''\n",
    "for i in ss:\n",
    "    P=P+i*n\n",
    "print(P)"
   ]
  },
  {
   "cell_type": "markdown",
   "metadata": {},
   "source": [
    "반복횟수와 문자열을 각각 입력받고 P에다가 새로운 문자열을 저장 후 출력한다.\n",
    "<img src=\"files/2675.png\">"
   ]
  },
  {
   "cell_type": "code",
   "execution_count": null,
   "metadata": {},
   "outputs": [],
   "source": [
    "from urllib import request \n",
    "url = 'http://cse.koreatech.ac.kr'\n",
    "f = request.urlopen(url)\n",
    "source_bytes = f.read()\n",
    "source = source_bytes.decode('utf-8')\n",
    "# 추후 숙제 답안 제출 때엔 아래 코드는 주석처리할 것                 \n",
    "#print(type(source_bytes))\n",
    "#print(type(source))\n",
    "\n",
    "source = source.strip()\n",
    "ch = ''\n",
    "check = True\n",
    "l = []\n",
    "for i in range( len(source)):\n",
    "    if (source[i] == '<' ):\n",
    "        check = False\n",
    "        continue\n",
    "    if ( source[i] == '>' and check == False):\n",
    "        check = True\n",
    "        continue\n",
    "    if ( check == True ):\n",
    "        ch += source[i]\n",
    "\n",
    "l = ch.split()\n",
    "print ( len(l) )"
   ]
  },
  {
   "cell_type": "markdown",
   "metadata": {},
   "source": [
    "그래서 < 가 나왔을경우 false 고정, >나올경우 true 고정으로하였다. countnue를 이용하여 <,>문자를 제외한 태그 밖 단어들을 ch += 한다.\n",
    "true일때 태그를 제외한 문자가 ch에 저장이된다. 그 후 l = ch.split()을 통해 공백을 기준으로하여 단어들을 리스트로 저장한다."
   ]
  },
  {
   "cell_type": "code",
   "execution_count": null,
   "metadata": {},
   "outputs": [],
   "source": []
  }
 ],
 "metadata": {
  "kernelspec": {
   "display_name": "Python 3",
   "language": "python",
   "name": "python3"
  },
  "language_info": {
   "codemirror_mode": {
    "name": "ipython",
    "version": 3
   },
   "file_extension": ".py",
   "mimetype": "text/x-python",
   "name": "python",
   "nbconvert_exporter": "python",
   "pygments_lexer": "ipython3",
   "version": "3.6.4"
  }
 },
 "nbformat": 4,
 "nbformat_minor": 2
}
